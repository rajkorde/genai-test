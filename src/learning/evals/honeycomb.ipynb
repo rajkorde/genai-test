{
 "cells": [
  {
   "cell_type": "code",
   "execution_count": 2,
   "metadata": {},
   "outputs": [],
   "source": [
    "from dotenv import load_dotenv\n",
    "\n",
    "assert load_dotenv(\"../../.env\")"
   ]
  },
  {
   "cell_type": "markdown",
   "metadata": {},
   "source": [
    "## Dataset"
   ]
  },
  {
   "cell_type": "code",
   "execution_count": 1,
   "metadata": {},
   "outputs": [],
   "source": [
    "from inspect_ai.dataset import csv_dataset, FieldSpec"
   ]
  },
  {
   "cell_type": "code",
   "execution_count": 3,
   "metadata": {},
   "outputs": [],
   "source": [
    "\n",
    "dataset = csv_dataset(csv_file=\"data/queries.csv\", \n",
    "                      sample_fields=FieldSpec(input=\"user_input\", metadata=[\"columns\"]),\n",
    "                      shuffle=True)"
   ]
  },
  {
   "cell_type": "code",
   "execution_count": 5,
   "metadata": {},
   "outputs": [
    {
     "data": {
      "text/plain": [
       "[Sample(input='user_profile_elements table reads', choices=None, target='', id=None, metadata={'columns': 'args.no_user_profile,user_id,users_truncated,read_user,user_ids_count,user_external_id,args.include_profile_only_users,user_locale,id_type_counts_USER,mentioned_users_count,encoded_user_id,user_ml_scoring_eligible,profile_only,local_users_count,canonical_user_id,candidate_users_count,read_user_group,quip.user_id,team_user_locale,user_ml_scoring_enabled,args.users,unencoded_user_id,args.include_full_users,user_agent,num_authed_users,database_upgrade,raw_or_encoded_user_id,num_rows,data_hashes,table_names_only,content_size,table_schema_only,mysql_row_count,id_type_counts_SECTION,id_type_counts_USER_DOCUMENT_OVERLAY,target_section_id,author_id,ekm_row_count,is_user_autocomplete_query,new_user,user_is_null,exclude_tables,table_sizes_only,is_member_email_search,meta_event_target_id,write_user_group,input_type,numUserIds,section_style,meta_event_type,sql_query,duration_ms,error,message,trace_parent_id,db.statement,service_name,quip:call_path,kind,namespace,api:method,http.status_code,name,reason'}, sandbox=None, files=None, setup=None),\n",
       " Sample(input='where VDP status code 200', choices=None, target='', id=None, metadata={'columns': 'status_code,Successful HTTP response,http.status_code,error,duration_ms,ip,service.release,process.pid,http.method,process.runtime.version,net.transport,http.target,db.system,service.name,process.runtime.description,exception.type,messaging.system,messaging.destination,http.flavor,db.user,library.version,http.url,exception.message,db.operation,db.statement,opencensus.exporterversion,http.host,net.peer.port,http.scheme,exception.stacktrace,os.description,db.name,os.type,db.sql.table,GoogleBot,otel.dropped_attributes_count,http.user_agent,meta.refinery.reason,messaging.operation,span.kind,thread.id,process.command_line,name,host.arch,host.name,parent_name,meta.refinery.send_reason,type,hostname,trace.parent_id,http.route'}, sandbox=None, files=None, setup=None),\n",
       " Sample(input='traces with ', choices=None, target='', id=None, metadata={'columns': 'trace.trace_id,exception.stacktrace,trace.span_id,trace.parent_id,error,ip,name,origin,hostname,thread.name,net.transport,detailFields,thread.id,library.name,type,db.name,host.arch,db.user,db.system,span.kind,telemetry.instrumentation_library,host.name,os.type,http.url,duration_ms,process.pid,exception.type,http.flavor,meta.refinery.reason,parent_name,service.release,service.name,numberDetailFields,os.description,exception.message,db.statement,span.num_links,db.operation,span.num_events,library.version,telemetry.sdk.language,process.runtime.description,process.command_line,process.runtime.name,telemetry.sdk.name,telemetry.auto.version,meta.refinery.sample_key,meta.signal_type,opencensus.exporterversion,http.user_agent,http.status_code,http.route'}, sandbox=None, files=None, setup=None),\n",
       " Sample(input='journey.id = 1', choices=None, target='', id=None, metadata={'columns': 'journey.id,journey.context,journey.correlationId,service.instance.id,trace.parent_id,http.route,name,trace.span_id,span.kind,trace.trace_id,http.url,peer.service,service.name,http.target,duration_ms,library.name,http.method,type,http.flavor,telemetry.sdk.language,net.peer.name,net.host.port,net.peer.port,net.host.name,status_code,telemetry.sdk.name,span.num_events,span.num_links,http.user_agent,http.scheme,telemetry.sdk.version,http.status_code,meta.signal_type,service_name'}, sandbox=None, files=None, setup=None),\n",
       " Sample(input='all pod oom killed', choices=None, target='', id=None, metadata={'columns': 'KeyId,span.kind,error,peer.service,os.type,os.name,body,message,name,path,flags,UserId,Forbidden Reason,http.target,Name,az.namespace,net.host.port,Id,honeycomb.distro.language,MethodName,os.description,exception.stacktrace,severity,ElapsedMilliseconds,net.peer.name,otel.exception_pointers,reasonPhrase,os.version,severity_text,exception.type,parent_name,http.route,net.host.name,http.flavor,type,service.name,exception.message,meta.refinery.reason,library.name,http.url,HealthStatus,http.method,trace.parent_id,dotnet.ilogger.category,duration_ms,trace.trace_id,span.num_links,service.version,status_message,span.num_events,http.status_code'}, sandbox=None, files=None, setup=None)]"
      ]
     },
     "execution_count": 5,
     "metadata": {},
     "output_type": "execute_result"
    }
   ],
   "source": [
    "dataset.samples[:5]"
   ]
  },
  {
   "cell_type": "markdown",
   "metadata": {},
   "source": [
    "## Solver"
   ]
  },
  {
   "cell_type": "code",
   "execution_count": 6,
   "metadata": {},
   "outputs": [],
   "source": [
    "from inspect_ai.solver import solver\n",
    "from inspect_ai.util import resource"
   ]
  },
  {
   "cell_type": "code",
   "execution_count": 7,
   "metadata": {},
   "outputs": [],
   "source": [
    "from inspect_ai.solver import Generate, TaskState\n",
    "\n",
    "\n",
    "@solver\n",
    "def prompt_with_schema():\n",
    "    prompt_template = resource('data/prompt.txt')\n",
    "    \n",
    "    async def solve(state: TaskState, generate: Generate):\n",
    "        state.user_prompt.text = prompt_template.replace(\"{{prompt}}\", state.user_prompt.text).replace(\"{{columns}}\", state.metadata[\"columns\"])\n",
    "        return state\n",
    "    return solve"
   ]
  },
  {
   "cell_type": "code",
   "execution_count": null,
   "metadata": {},
   "outputs": [],
   "source": []
  }
 ],
 "metadata": {
  "kernelspec": {
   "display_name": "genai-test-2ha0FLHZ-py3.12",
   "language": "python",
   "name": "python3"
  },
  "language_info": {
   "codemirror_mode": {
    "name": "ipython",
    "version": 3
   },
   "file_extension": ".py",
   "mimetype": "text/x-python",
   "name": "python",
   "nbconvert_exporter": "python",
   "pygments_lexer": "ipython3",
   "version": "3.12.3"
  }
 },
 "nbformat": 4,
 "nbformat_minor": 2
}
